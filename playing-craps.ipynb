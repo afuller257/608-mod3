{
 "cells": [
  {
   "cell_type": "code",
   "execution_count": 1,
   "id": "5b5a5267-f9ec-4cf3-ab06-8e21c602f337",
   "metadata": {},
   "outputs": [
    {
     "ename": "SyntaxError",
     "evalue": "invalid syntax (2309024039.py, line 2)",
     "output_type": "error",
     "traceback": [
      "\u001b[1;36m  Input \u001b[1;32mIn [1]\u001b[1;36m\u001b[0m\n\u001b[1;33m    2 \"\"\" Roll two six-sided die 6,000,000 times. \"\"\":\u001b[0m\n\u001b[1;37m      ^\u001b[0m\n\u001b[1;31mSyntaxError\u001b[0m\u001b[1;31m:\u001b[0m invalid syntax\n"
     ]
    }
   ],
   "source": [
    "1# playing-craps.py\n",
    "2\"\"\" Roll two six-sided die 6,000,000 times. \"\"\"\n",
    "3import random\n",
    "4\n",
    "5# face frequency counters - 1 though 12\n",
    "6frequency1 = 0\n",
    "7frequency2 = 0\n",
    "8frequency3 = 0\n",
    "9frequency4 = 0\n",
    "10frequency5 = 0\n",
    "11frequency6 = 0\n",
    "12frequency7 = 0\n",
    "13frequency8 = 0\n",
    "14frequency9 = 0\n",
    "15frequency10 = 0\n",
    "16frequency11 = 0\n",
    "17frequency12 = 0\n",
    "18\n",
    "19trials = 6_000_000\n",
    "20\n",
    "21# Simulate rolls\n",
    "22for roll in range(trials):\n",
    "23    face = random.randrange(1, 7) + random.randrange(1,7)\n",
    "24\n",
    "25# increment appropriate counter\n",
    "26    if face == 1:\n",
    "27        frequency1 += 1\n",
    "28    elif face == 2:\n",
    "29        frequency2 += 1\n",
    "30    elif face == 3:\n",
    "31        frequency3 += 1\n",
    "32    elif face == 4:\n",
    "33        frequency4 += 1\n",
    "34    elif face == 5:\n",
    "35        frequency5 += 1\n",
    "36    elif face == 6:\n",
    "37        frequency6 += 1\n",
    "38    elif face == 7:\n",
    "39        frequency7 += 1\n",
    "40    elif face == 8:\n",
    "41        frequency8 += 1\n",
    "42    elif face == 9:\n",
    "43        frequency9 += 1\n",
    "44    elif face == 10:\n",
    "45        frequency10 += 1\n",
    "46    elif face == 11:\n",
    "47        frequency11 += 1\n",
    "48    elif face == 12:\n",
    "49        frequency12 += 1\n",
    "50\n",
    "51print(f'Face{\"Frequency\":>13}')\n",
    "52print(f'{1:>4}{frequency1:>13}')\n",
    "53print(f'{2:>4}{frequency2:>13}')\n",
    "54print(f'{3:>4}{frequency3:>13}')\n",
    "55print(f'{4:>4}{frequency4:>13}')\n",
    "56print(f'{5:>4}{frequency5:>13}')\n",
    "57print(f'{6:>4}{frequency6:>13}')\n",
    "58print(f'{7:>4}{frequency7:>13}')\n",
    "59print(f'{8:>4}{frequency8:>13}')\n",
    "60print(f'{9:>4}{frequency9:>13}')\n",
    "61print(f'{10:>4}{frequency10:>13}')\n",
    "62print(f'{11:>4}{frequency11:>13}')\n",
    "63print(f'{12:>4}{frequency12:>13}')\n",
    "64\n",
    "65craps = frequency2 + frequency3 + frequency12\n",
    "66win = frequency7 + frequency11\n",
    "67print ('Craps:', craps/trials)\n",
    "68 print ('Win:', win/trials)\n"
   ]
  },
  {
   "cell_type": "code",
   "execution_count": null,
   "id": "3fd6c17d",
   "metadata": {},
   "outputs": [],
   "source": []
  }
 ],
 "metadata": {
  "kernelspec": {
   "display_name": "Python 3 (ipykernel)",
   "language": "python",
   "name": "python3"
  },
  "language_info": {
   "codemirror_mode": {
    "name": "ipython",
    "version": 3
   },
   "file_extension": ".py",
   "mimetype": "text/x-python",
   "name": "python",
   "nbconvert_exporter": "python",
   "pygments_lexer": "ipython3",
   "version": "3.9.12"
  }
 },
 "nbformat": 4,
 "nbformat_minor": 5
}

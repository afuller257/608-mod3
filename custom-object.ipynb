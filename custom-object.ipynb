{
 "cells": [
  {
   "cell_type": "code",
   "execution_count": 1,
   "id": "efb5a405-5607-488a-8aed-90d61550f53b",
   "metadata": {},
   "outputs": [
    {
     "name": "stdout",
     "output_type": "stream",
     "text": [
      "Tax:  7.5\n",
      "Tip:  127.49999999999999\n"
     ]
    }
   ],
   "source": [
    "# Python Object reqresenting a purchase for a given amount\n",
    "class Purchase(object):\n",
    "    def __init__(self, amount):\n",
    "        self.amount = amount\n",
    "        \n",
    "    def calculateTax(self, taxPercent):\n",
    "        return self.amount * taxPercent/100.0\n",
    "    \n",
    "    def calculateTip(self, tipPercent):\n",
    "        return self.amount * (1 + taxPercent/100.0 + tipPercent/100.0)\n",
    "    \n",
    "# Create Purchase object given an amount\n",
    "purchase = Purchase(100.0)\n",
    "\n",
    "# Set the tax and tip percentages\n",
    "taxPercent = 7.5\n",
    "tipPercent = 20.0\n",
    "\n",
    "# Use the object to calculate tax and tip\n",
    "tax = purchase.calculateTax(taxPercent)\n",
    "tip = purchase.calculateTip(tipPercent)\n",
    "\n",
    "# Display some useful information\n",
    "print ('Tax: ',tax)\n",
    "print ('Tip: ', tip)"
   ]
  }
 ],
 "metadata": {
  "kernelspec": {
   "display_name": "Python 3 (ipykernel)",
   "language": "python",
   "name": "python3"
  },
  "language_info": {
   "codemirror_mode": {
    "name": "ipython",
    "version": 3
   },
   "file_extension": ".py",
   "mimetype": "text/x-python",
   "name": "python",
   "nbconvert_exporter": "python",
   "pygments_lexer": "ipython3",
   "version": "3.9.12"
  }
 },
 "nbformat": 4,
 "nbformat_minor": 5
}
